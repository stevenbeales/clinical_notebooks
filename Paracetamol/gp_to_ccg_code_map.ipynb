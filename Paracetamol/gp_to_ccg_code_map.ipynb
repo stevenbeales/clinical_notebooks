{
 "metadata": {
  "name": "gp_to_ccg_code_map"
 },
 "nbformat": 3,
 "nbformat_minor": 0,
 "worksheets": [
  {
   "cells": [
    {
     "cell_type": "code",
     "collapsed": false,
     "input": "import pandas as pd",
     "language": "python",
     "metadata": {},
     "outputs": [],
     "prompt_number": 2
    },
    {
     "cell_type": "code",
     "collapsed": false,
     "input": "from pandas import DataFrame, Series",
     "language": "python",
     "metadata": {},
     "outputs": [],
     "prompt_number": 3
    },
    {
     "cell_type": "code",
     "collapsed": false,
     "input": "df = pd.read_csv('dataView12_17.csv') #load asthma data by CCG from INHALE provided by PHE",
     "language": "python",
     "metadata": {},
     "outputs": [],
     "prompt_number": 4
    },
    {
     "cell_type": "code",
     "collapsed": false,
     "input": "df1 = pd.read_csv('interimpcmem_v5.csv') #load GP practice to CCG mapping from www.connectingforhealth.nhs.uk",
     "language": "python",
     "metadata": {},
     "outputs": [],
     "prompt_number": 5
    },
    {
     "cell_type": "code",
     "collapsed": false,
     "input": "df['CCG13CD'] = '' #make a new empty column with a title that matches our ccg geojson key",
     "language": "python",
     "metadata": {},
     "outputs": [],
     "prompt_number": 6
    },
    {
     "cell_type": "code",
     "collapsed": false,
     "input": "#populate our CCG13CD column appropriately\nnum = 0\nfor i in range(38000001, 38000212):\n    df['CCG13CD'][num] = 'E' + str(i)\n    num = num + 1",
     "language": "python",
     "metadata": {},
     "outputs": [],
     "prompt_number": 7
    },
    {
     "cell_type": "code",
     "collapsed": false,
     "input": "df.ix[0]",
     "language": "python",
     "metadata": {},
     "outputs": [
      {
       "metadata": {},
       "output_type": "pyout",
       "prompt_number": 8,
       "text": "Clinical Commissioning Group                                                                 02N\nName                                                     NHS Airedale, Wharfedale and Craven CCG\nRecorded prevalence of Asthma (% GP list sizes)(2005)                                        6.1\nNumerator                                                                                   9280\nDenominator                                                                               153235\nRecorded prevalence of Asthma (% GP list sizes)(2006)                                          6\nNumerator.1                                                                                 9296\nDenominator.1                                                                             154068\nRecorded prevalence of Asthma (% GP list sizes)(2007)                                        6.1\nNumerator.2                                                                                 9423\nDenominator.2                                                                             154702\nRecorded prevalence of Asthma (% GP list sizes)(2008)                                        6.3\nNumerator.3                                                                                 9771\nDenominator.3                                                                             154783\nRecorded prevalence of Asthma (% GP list sizes)(2009)                                        6.4\n...\nUnnamed: 752          NaN\nUnnamed: 753          NaN\nUnnamed: 754          NaN\nUnnamed: 755          NaN\nUnnamed: 756          NaN\nUnnamed: 757          NaN\nUnnamed: 758          NaN\nUnnamed: 759          NaN\nUnnamed: 760          NaN\nUnnamed: 761          NaN\nUnnamed: 762          NaN\nUnnamed: 763          NaN\nUnnamed: 764          NaN\nUnnamed: 765          NaN\nCCG13CD         E38000001\nName: 0, Length: 767, dtype: object"
      }
     ],
     "prompt_number": 8
    },
    {
     "cell_type": "code",
     "collapsed": false,
     "input": "df1.columns",
     "language": "python",
     "metadata": {},
     "outputs": [
      {
       "metadata": {},
       "output_type": "pyout",
       "prompt_number": 9,
       "text": "Index([u'PRACTICECODE', u'CCGCODE', u'Unnamed: 2', u'DATE', u'Unnamed: 4', u'Unnamed: 5', u'Unnamed: 6'], dtype=object)"
      }
     ],
     "prompt_number": 9
    },
    {
     "cell_type": "code",
     "collapsed": false,
     "input": "df1['CCGCODE'].nunique() #how many unique CCG codes in the GP practice to CCG mapping from www.connectingforhealth.nhs.uk",
     "language": "python",
     "metadata": {},
     "outputs": [
      {
       "metadata": {},
       "output_type": "pyout",
       "prompt_number": 10,
       "text": "223"
      }
     ],
     "prompt_number": 10
    },
    {
     "cell_type": "code",
     "collapsed": false,
     "input": "df['Clinical Commissioning Group'].nunique() #how many unique CCG codes in the Asthma data",
     "language": "python",
     "metadata": {},
     "outputs": [
      {
       "metadata": {},
       "output_type": "pyout",
       "prompt_number": 11,
       "text": "224"
      }
     ],
     "prompt_number": 11
    },
    {
     "cell_type": "code",
     "collapsed": false,
     "input": "df.ix[224] #inspection shows isn't a CCG",
     "language": "python",
     "metadata": {},
     "outputs": [
      {
       "metadata": {},
       "output_type": "pyout",
       "prompt_number": 12,
       "text": "Clinical Commissioning Group                                                       1\nName                                                     London Commissioning Region\nRecorded prevalence of Asthma (% GP list sizes)(2005)                            5.9\nNumerator                                                                        4.7\nDenominator                                                                   251088\nRecorded prevalence of Asthma (% GP list sizes)(2006)                         371020\nNumerator.1                                                                  4235006\nDenominator.1                                                                7874167\nRecorded prevalence of Asthma (% GP list sizes)(2007)                            5.9\nNumerator.2                                                                      4.6\nDenominator.2                                                                 252098\nRecorded prevalence of Asthma (% GP list sizes)(2008)                         373480\nNumerator.3                                                                  4293171\nDenominator.3                                                                8042695\nRecorded prevalence of Asthma (% GP list sizes)(2009)                            5.9\n...\nUnnamed: 752             0.5\nUnnamed: 753             0.4\nUnnamed: 754    5.473731e+07\nUnnamed: 755    6.815855e+07\nUnnamed: 756    1.066777e+08\nUnnamed: 757    1.539115e+08\nUnnamed: 758             NaN\nUnnamed: 759             NaN\nUnnamed: 760             NaN\nUnnamed: 761             NaN\nUnnamed: 762             NaN\nUnnamed: 763             NaN\nUnnamed: 764             NaN\nUnnamed: 765             NaN\nCCG13CD                     \nName: 224, Length: 767, dtype: object"
      }
     ],
     "prompt_number": 12
    },
    {
     "cell_type": "code",
     "collapsed": false,
     "input": "df.ix[210]",
     "language": "python",
     "metadata": {},
     "outputs": [
      {
       "metadata": {},
       "output_type": "pyout",
       "prompt_number": 13,
       "text": "Clinical Commissioning Group                                             06D\nName                                                     NHS Wyre Forest CCG\nRecorded prevalence of Asthma (% GP list sizes)(2005)                      7\nNumerator                                                               7649\nDenominator                                                           108853\nRecorded prevalence of Asthma (% GP list sizes)(2006)                    6.8\nNumerator.1                                                             7452\nDenominator.1                                                         109438\nRecorded prevalence of Asthma (% GP list sizes)(2007)                    6.9\nNumerator.2                                                             7544\nDenominator.2                                                         109814\nRecorded prevalence of Asthma (% GP list sizes)(2008)                    6.8\nNumerator.3                                                             7478\nDenominator.3                                                         109891\nRecorded prevalence of Asthma (% GP list sizes)(2009)                    6.9\n...\nUnnamed: 752          NaN\nUnnamed: 753          NaN\nUnnamed: 754          NaN\nUnnamed: 755          NaN\nUnnamed: 756          NaN\nUnnamed: 757          NaN\nUnnamed: 758          NaN\nUnnamed: 759          NaN\nUnnamed: 760          NaN\nUnnamed: 761          NaN\nUnnamed: 762          NaN\nUnnamed: 763          NaN\nUnnamed: 764          NaN\nUnnamed: 765          NaN\nCCG13CD         E38000211\nName: 210, Length: 767, dtype: object"
      }
     ],
     "prompt_number": 13
    },
    {
     "cell_type": "code",
     "collapsed": false,
     "input": "df2 = df.ix[:210] #select CCGs",
     "language": "python",
     "metadata": {},
     "outputs": [],
     "prompt_number": 15
    },
    {
     "cell_type": "code",
     "collapsed": false,
     "input": "df2 = df2[['Clinical Commissioning Group','CCG13CD']] #select columns of interest",
     "language": "python",
     "metadata": {},
     "outputs": [],
     "prompt_number": 16
    },
    {
     "cell_type": "code",
     "collapsed": false,
     "input": "df3 = df1[['PRACTICECODE', 'CCGCODE']]",
     "language": "python",
     "metadata": {},
     "outputs": [],
     "prompt_number": 17
    },
    {
     "cell_type": "code",
     "collapsed": false,
     "input": "df2.ix[0]",
     "language": "python",
     "metadata": {},
     "outputs": [
      {
       "metadata": {},
       "output_type": "pyout",
       "prompt_number": 18,
       "text": "Clinical Commissioning Group          02N\nCCG13CD                         E38000001\nName: 0, dtype: object"
      }
     ],
     "prompt_number": 18
    },
    {
     "cell_type": "code",
     "collapsed": false,
     "input": "df2['CCGCODE'] = df2['Clinical Commissioning Group'] #so matches with df1",
     "language": "python",
     "metadata": {},
     "outputs": [],
     "prompt_number": 21
    },
    {
     "cell_type": "code",
     "collapsed": false,
     "input": "df2 = df2[['CCGCODE', 'CCG13CD']]",
     "language": "python",
     "metadata": {},
     "outputs": [],
     "prompt_number": 22
    },
    {
     "cell_type": "code",
     "collapsed": false,
     "input": "df2.ix[0]",
     "language": "python",
     "metadata": {},
     "outputs": [
      {
       "metadata": {},
       "output_type": "pyout",
       "prompt_number": 23,
       "text": "CCGCODE          02N\nCCG13CD    E38000001\nName: 0, dtype: object"
      }
     ],
     "prompt_number": 23
    },
    {
     "cell_type": "code",
     "collapsed": false,
     "input": "df2.to_csv('ccgcodemap.csv')",
     "language": "python",
     "metadata": {},
     "outputs": [],
     "prompt_number": 44
    },
    {
     "cell_type": "code",
     "collapsed": false,
     "input": "df4 = pd.merge(df2, df3, on='CCGCODE') #lets join our CCG code mapping (CCG code used everywhere else to CCG code used in geojson) up with our GP code to CCG mapping",
     "language": "python",
     "metadata": {},
     "outputs": [],
     "prompt_number": 24
    },
    {
     "cell_type": "code",
     "collapsed": false,
     "input": "df4.ix[0] #looks sane",
     "language": "python",
     "metadata": {},
     "outputs": [
      {
       "metadata": {},
       "output_type": "pyout",
       "prompt_number": 25,
       "text": "CCGCODE               02N\nCCG13CD         E38000001\nPRACTICECODE       B82007\nName: 0, dtype: object"
      }
     ],
     "prompt_number": 25
    },
    {
     "cell_type": "code",
     "collapsed": false,
     "input": "df4['PRACTICE'] = df3['PRACTICECODE'] #to match prescribing data",
     "language": "python",
     "metadata": {},
     "outputs": [],
     "prompt_number": 28
    },
    {
     "cell_type": "code",
     "collapsed": false,
     "input": "df5 = df4[['PRACTICE', 'CCGCODE', 'CCG13CD']]",
     "language": "python",
     "metadata": {},
     "outputs": [],
     "prompt_number": 29
    },
    {
     "cell_type": "code",
     "collapsed": false,
     "input": "df5.ix[0]",
     "language": "python",
     "metadata": {},
     "outputs": [
      {
       "metadata": {},
       "output_type": "pyout",
       "prompt_number": 30,
       "text": "PRACTICE       A81001\nCCGCODE           02N\nCCG13CD     E38000001\nName: 0, dtype: object"
      }
     ],
     "prompt_number": 30
    },
    {
     "cell_type": "code",
     "collapsed": false,
     "input": "df5",
     "language": "python",
     "metadata": {},
     "outputs": [
      {
       "html": "<pre>\n&lt;class 'pandas.core.frame.DataFrame'&gt;\nInt64Index: 8721 entries, 0 to 8720\nData columns (total 3 columns):\nPRACTICE    8721  non-null values\nCCGCODE     8721  non-null values\nCCG13CD     8721  non-null values\ndtypes: object(3)\n</pre>",
       "metadata": {},
       "output_type": "pyout",
       "prompt_number": 36,
       "text": "<class 'pandas.core.frame.DataFrame'>\nInt64Index: 8721 entries, 0 to 8720\nData columns (total 3 columns):\nPRACTICE    8721  non-null values\nCCGCODE     8721  non-null values\nCCG13CD     8721  non-null values\ndtypes: object(3)"
      }
     ],
     "prompt_number": 36
    },
    {
     "cell_type": "code",
     "collapsed": false,
     "input": "df5.to_csv('practice_to_ccg_codes.csv')",
     "language": "python",
     "metadata": {},
     "outputs": [],
     "prompt_number": 31
    },
    {
     "cell_type": "code",
     "collapsed": false,
     "input": "df6 = pd.read_csv('CCG_registered_patients_2012.csv')",
     "language": "python",
     "metadata": {},
     "outputs": [],
     "prompt_number": 32
    },
    {
     "cell_type": "code",
     "collapsed": false,
     "input": "df6['CCGCODE'] = df6['CCG_Code']",
     "language": "python",
     "metadata": {},
     "outputs": [],
     "prompt_number": 34
    },
    {
     "cell_type": "code",
     "collapsed": false,
     "input": "df6 = pd.merge(df5, df6, on='CCGCODE')",
     "language": "python",
     "metadata": {},
     "outputs": [],
     "prompt_number": 86
    },
    {
     "cell_type": "code",
     "collapsed": false,
     "input": "df7 = df6[['CCGCODE', 'CCG13CD', 'Population']]",
     "language": "python",
     "metadata": {},
     "outputs": [],
     "prompt_number": 87
    },
    {
     "cell_type": "code",
     "collapsed": false,
     "input": "df7.Population = df7.Population.str.replace(',', '') #get rid of commas in populations",
     "language": "python",
     "metadata": {},
     "outputs": [],
     "prompt_number": 88
    },
    {
     "cell_type": "code",
     "collapsed": false,
     "input": "df7.Population = df7.Population.astype(int)",
     "language": "python",
     "metadata": {},
     "outputs": [],
     "prompt_number": 89
    },
    {
     "cell_type": "code",
     "collapsed": false,
     "input": "sum(df7.Population) #shows this is a sane number :-)",
     "language": "python",
     "metadata": {},
     "outputs": [
      {
       "metadata": {},
       "output_type": "pyout",
       "prompt_number": 90,
       "text": "2936460497"
      }
     ],
     "prompt_number": 90
    },
    {
     "cell_type": "code",
     "collapsed": false,
     "input": "df7['CCG13CD']",
     "language": "python",
     "metadata": {},
     "outputs": [
      {
       "metadata": {},
       "output_type": "pyout",
       "prompt_number": 93,
       "text": "0     E38000001\n1     E38000001\n2     E38000001\n3     E38000001\n4     E38000001\n5     E38000001\n6     E38000001\n7     E38000001\n8     E38000001\n9     E38000001\n10    E38000001\n11    E38000001\n12    E38000001\n13    E38000001\n14    E38000001\n...\n313941    E38000211\n313942    E38000211\n313943    E38000211\n313944    E38000211\n313945    E38000211\n313946    E38000211\n313947    E38000211\n313948    E38000211\n313949    E38000211\n313950    E38000211\n313951    E38000211\n313952    E38000211\n313953    E38000211\n313954    E38000211\n313955    E38000211\nName: CCG13CD, Length: 313956, dtype: object"
      }
     ],
     "prompt_number": 93
    },
    {
     "cell_type": "code",
     "collapsed": false,
     "input": "df8 = df7.groupby('CCG13CD')",
     "language": "python",
     "metadata": {},
     "outputs": [],
     "prompt_number": 94
    },
    {
     "cell_type": "code",
     "collapsed": false,
     "input": "df8.Population.sum()",
     "language": "python",
     "metadata": {},
     "outputs": [
      {
       "metadata": {},
       "output_type": "pyout",
       "prompt_number": 95,
       "text": "CCG13CD\nE38000001      2653700\nE38000002      2731960\nE38000003      4180722\nE38000004     10196400\nE38000005     26366763\nE38000006      9440758\nE38000007     12096574\nE38000008      1344948\nE38000009      6108240\nE38000010     24172775\nE38000011      8404587\nE38000012    122805144\nE38000013     20090328\nE38000014      4908337\nE38000015      5175750\n...\nE38000197    11443809\nE38000198    29225448\nE38000199    28978490\nE38000200     3016872\nE38000201    18476600\nE38000202    12045294\nE38000203     3969408\nE38000204     5920950\nE38000205    22443260\nE38000206    35342550\nE38000207     3318062\nE38000208    22096533\nE38000209     2171918\nE38000210    13760337\nE38000211     1428544\nName: Population, Length: 211, dtype: int64"
      }
     ],
     "prompt_number": 95
    },
    {
     "cell_type": "code",
     "collapsed": false,
     "input": "sum(df8.Population.sum())",
     "language": "python",
     "metadata": {},
     "outputs": [
      {
       "metadata": {},
       "output_type": "pyout",
       "prompt_number": 91,
       "text": "55704177"
      }
     ],
     "prompt_number": 91
    },
    {
     "cell_type": "code",
     "collapsed": false,
     "input": "df9 = df8.Population.sum()",
     "language": "python",
     "metadata": {},
     "outputs": [],
     "prompt_number": 96
    },
    {
     "cell_type": "code",
     "collapsed": false,
     "input": "df9.to_csv('ccgcode_pop.csv', header=True)",
     "language": "python",
     "metadata": {},
     "outputs": [],
     "prompt_number": 97
    },
    {
     "cell_type": "code",
     "collapsed": false,
     "input": "",
     "language": "python",
     "metadata": {},
     "outputs": []
    }
   ],
   "metadata": {}
  }
 ]
}
